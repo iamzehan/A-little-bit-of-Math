{
  "nbformat": 4,
  "nbformat_minor": 0,
  "metadata": {
    "colab": {
      "provenance": [],
      "authorship_tag": "ABX9TyP9wHgBDITiOjucxwOi7yjL",
      "include_colab_link": true
    },
    "kernelspec": {
      "name": "python3",
      "display_name": "Python 3"
    },
    "language_info": {
      "name": "python"
    }
  },
  "cells": [
    {
      "cell_type": "markdown",
      "metadata": {
        "id": "view-in-github",
        "colab_type": "text"
      },
      "source": [
        "<a href=\"https://colab.research.google.com/github/iamzehan/A-little-bit-of-Math/blob/main/Sorting%20Algorithms/heapsort_explained.ipynb\" target=\"_parent\"><img src=\"https://colab.research.google.com/assets/colab-badge.svg\" alt=\"Open In Colab\"/></a>"
      ]
    },
    {
      "cell_type": "markdown",
      "source": [
        "# **History**\n",
        "___\n",
        "\n",
        "The Heap Sort algorithm was developed by J.W. J. Williams in 1964 and refined by Robert W. Floyd in 1965. It is a comparison-based sorting algorithm that falls under the category of selection sort. Heap Sort is known for its efficiency and has an average and worst-case time complexity of O(n log n), which makes it one of the most efficient sorting algorithms in terms of time complexity.\n",
        "\n",
        "Brief History:\n",
        "\n",
        "1. **J.W. J. Williams (1964)**: The algorithm was initially conceived by J.W. J. Williams while he was working at the IBM Research Center in Yorktown Heights, New York. His primary goal was to develop an efficient in-place sorting algorithm. Williams' algorithm was an initial step towards the development of the Heap Sort we know today.\n",
        "\n",
        "2. **Robert W. Floyd (1965)**: Robert W. Floyd, a renowned computer scientist, further refined and popularized the algorithm. He introduced the idea of turning the array into a binary heap data structure and performing the heap operations to sort the elements. This approach reduced the number of comparisons and swaps required, making Heap Sort even more efficient.\n",
        "\n",
        "Heap Sort gained popularity due to its reliable O(n log n) time complexity and relatively simple implementation compared to other sorting algorithms like quicksort and mergesort. It has been widely used in computer science and programming ever since its development.\n",
        "\n",
        "Heap Sort's efficient time complexity makes it suitable for various applications, including database systems, operating systems, and embedded systems, where performance is critical. It remains a valuable tool in the toolbox of algorithms used by computer scientists and programmers for sorting large datasets efficiently."
      ],
      "metadata": {
        "id": "tWHvFRq3wluj"
      }
    },
    {
      "cell_type": "markdown",
      "source": [
        "## **Implementation**"
      ],
      "metadata": {
        "id": "tvPjAH6NwqGY"
      }
    },
    {
      "cell_type": "code",
      "execution_count": null,
      "metadata": {
        "id": "GHNzYx2ZwO9u"
      },
      "outputs": [],
      "source": [
        "# Import required libraries\n",
        "from typing import List\n",
        "\n",
        "# Define the heapify function\n",
        "def heapify(arr: List[int], n: int, i: int):\n",
        "    # Find the largest among the root and its left and right children\n",
        "    largest = i\n",
        "    left_child = 2 * i + 1\n",
        "    right_child = 2 * i + 2\n",
        "\n",
        "    # Check if the left child exists and is larger than the current largest\n",
        "    if left_child < n and arr[i] < arr[left_child]:\n",
        "        largest = left_child\n",
        "\n",
        "    # Check if the right child exists and is larger than the current largest\n",
        "    if right_child < n and arr[largest] < arr[right_child]:\n",
        "        largest = right_child\n",
        "\n",
        "    # If the largest element is not the current root, swap them and continue heapifying\n",
        "    if largest != i:\n",
        "        arr[i], arr[largest] = arr[largest], arr[i]  # Swap elements\n",
        "        heapify(arr, n, largest)  # Recursively heapify the affected subtree\n",
        "\n",
        "# Define the heapSort function\n",
        "def heapSort(arr: List[int]):\n",
        "    n = len(arr)\n",
        "\n",
        "    # Build a max heap (rearrange the array)\n",
        "    for i in range(n // 2 - 1, -1, -1):\n",
        "        heapify(arr, n, i)\n",
        "\n",
        "    # Extract elements one by one from the heap\n",
        "    for i in range(n - 1, 0, -1):\n",
        "        # Swap the current root with the last element in the heap\n",
        "        arr[i], arr[0] = arr[0], arr[i]\n",
        "\n",
        "        # Call heapify on the reduced heap\n",
        "        heapify(arr, i, 0)\n",
        "\n",
        "# Example usage\n",
        "arr = [1, 12, 9, 5, 6, 10]\n",
        "\n",
        "# Call heapSort to sort the array\n",
        "heapSort(arr)\n",
        "\n",
        "# Print the sorted array\n",
        "n = len(arr)\n",
        "print(\"Sorted array is:\")\n",
        "for i in range(n):\n",
        "    print(\"%d \" % arr[i], end='')"
      ]
    },
    {
      "cell_type": "markdown",
      "source": [
        "## **Dissection**\n",
        "___\n",
        "\n",
        "Let's use the provided array `[1, 12, 9, 5, 6, 10]` and break down the code step by step using this array.\n",
        "\n",
        "\n",
        "**Step 1: Building the Max Heap (Heapify)**\n",
        "\n",
        "We start with the original array: `[1, 12, 9, 5, 6, 10]`. The goal is to transform it into a max heap.\n",
        "\n",
        "- **Iteration 3**:\n",
        "    - `[1, 12, 9, 5, 6, 10]` (No changes)\n",
        "\n",
        "- **Iteration 2**:\n",
        "    - Swap 2nd and 3rd elements (12 and 9):\n",
        "        - `[1, 12, 10, 5, 6, 9]`\n",
        "        \n",
        "- **Iteration 1**:\n",
        "    - Swap 1st and 3rd elements (1 and 10):\n",
        "        - `[10, 12, 1, 5, 6, 9]`\n",
        "        \n",
        "- **Iteration 0**:\n",
        "    - Swap 0th and 1st elements (10 and 12):\n",
        "        - `[12, 10, 1, 5, 6, 9]`\n",
        "\n",
        "Now, the array `[12, 10, 1, 5, 6, 9]` has been transformed into a max heap.\n",
        "\n",
        "**Step 2: Swapping & Heapify**\n",
        "\n",
        "We perform the Heap Sort by repeatedly extracting the maximum element from the max heap and restoring the max heap property.\n",
        "\n",
        "- **Swap 5 (0-based index)**:\n",
        "    - Swap the first element (12) with the last element (9):\n",
        "        - `[9, 10, 1, 5, 6, 12]`\n",
        "        \n",
        "- **Heapify 5**:\n",
        "    - After the swap, we need to heapify the remaining elements. Starting with index 0 (the root), we find the largest among the root and its children.\n",
        "    - Swap 9 (root) and 6 (right child):\n",
        "        - `[10, 6, 1, 5, 9, 12]`\n",
        "        \n",
        "- **Swap 4**:\n",
        "    - Swap the first element (10) with the last element (6):\n",
        "        - `[6, 10, 1, 5, 9, 12]`\n",
        "        \n",
        "- **Heapify 4**:\n",
        "    - Swap 6 (root) and 1 (left child):\n",
        "        - `[10, 1, 6, 5, 9, 12]`\n",
        "        \n",
        "- **Swap 3**:\n",
        "    - Swap the first element (10) with the last element (5):\n",
        "        - `[5, 1, 6, 10, 9, 12]`\n",
        "        \n",
        "- **Heapify 3**:\n",
        "    - Swap 5 (root) and 1 (left child):\n",
        "        - `[6, 1, 5, 10, 9, 12]`\n",
        "        \n",
        "- **Swap 2**:\n",
        "    - Swap the first element (6) with the last element (1):\n",
        "        - `[1, 6, 5, 10, 9, 12]`\n",
        "        \n",
        "- **Heapify 2**:\n",
        "    - Swap 6 (root) and 5 (left child):\n",
        "        - `[5, 6, 1, 10, 9, 12]`\n",
        "        \n",
        "- **Swap 1**:\n",
        "    - Swap the first element (5) with the last element (6):\n",
        "        - `[6, 5, 1, 10, 9, 12]`\n",
        "        \n",
        "- **Heapify 1**:\n",
        "    - Swap 6 (root) and 1 (left child):\n",
        "        - `[5, 1, 6, 10, 9, 12]`\n",
        "\n",
        "- **Swap 0**:\n",
        "    - Swap the first element (5) with the last element (1):\n",
        "        - `[1, 5, 6, 10, 9, 12]`\n",
        "\n",
        "- **Heapify 0**:\n",
        "    - After the final swap, the array is already sorted.\n",
        "\n",
        "**Step 3: Final Sorted Array**\n",
        "\n",
        "Now, the array `[1, 5, 6, 10, 9, 12]` is fully sorted in ascending order. This is the sorted result of the Heap Sort algorithm.\n",
        "\n",
        "```\n",
        "Sorted array is:\n",
        "1 5 6 9 10 12\n",
        "```\n",
        "\n",
        "I apologize for any previous inaccuracies, and I appreciate your patience. The Heap Sort algorithm has successfully sorted the array."
      ],
      "metadata": {
        "id": "3tYho7j1wt7x"
      }
    }
  ]
}